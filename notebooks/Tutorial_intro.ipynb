{
 "cells": [
  {
   "cell_type": "markdown",
   "metadata": {},
   "source": [
    "# Bacterial whole genome sequencing tutorial"
   ]
  },
  {
   "cell_type": "markdown",
   "metadata": {},
   "source": [
    "## Author\n",
    "\n",
    "Rodrigo Ortega Polo\n",
    "\n",
    "Biology Study Leader - Bioinformatics\n",
    "\n",
    "Lethbridge Research and Development Centre - Agriculture and Agri-Food Canada\n",
    "\n",
    "rodrigo.ortegapolo@canada.ca"
   ]
  },
  {
   "cell_type": "markdown",
   "metadata": {},
   "source": [
    "## Topics\n",
    "\n",
    "1. [Introduction to the tutorial](#introduction)\n",
    "\n",
    "* Whole genome sequencing\n",
    "\n",
    "* Quick introduction to Linux\n",
    "\n",
    "* Data pre-processing\n",
    "    * Quality assessment\n",
    "    * Trimming\n",
    "\n",
    "* Contamination detection\n",
    "\n",
    "* _De novo_ assembly\n",
    "\n",
    "* Assembly evaluation\n",
    "\n",
    "* Genome annotation\n",
    "\n",
    "* Genotyping\n",
    "    * MLST\n",
    "    \n",
    "* Serotype identification (_E. coli_)\n",
    "\n",
    "* Bringing it all together with `snakemake`"
   ]
  },
  {
   "cell_type": "markdown",
   "metadata": {},
   "source": [
    "## Introduction to the tutorial <a name=\"introduction\"></a>"
   ]
  }
 ],
 "metadata": {
  "kernelspec": {
   "display_name": "Python 3",
   "language": "python",
   "name": "python3"
  },
  "language_info": {
   "codemirror_mode": {
    "name": "ipython",
    "version": 3
   },
   "file_extension": ".py",
   "mimetype": "text/x-python",
   "name": "python",
   "nbconvert_exporter": "python",
   "pygments_lexer": "ipython3",
   "version": "3.7.1"
  }
 },
 "nbformat": 4,
 "nbformat_minor": 2
}
